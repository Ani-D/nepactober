{
  "nbformat": 4,
  "nbformat_minor": 0,
  "metadata": {
    "colab": {
      "name": "Run Length Coding.ipynb",
      "provenance": [],
      "collapsed_sections": []
    },
    "kernelspec": {
      "name": "python3",
      "display_name": "Python 3"
    }
  },
  "cells": [
    {
      "cell_type": "code",
      "metadata": {
        "id": "Z7LenzdknauA"
      },
      "source": [
        "\r\n",
        "def encode(message):\r\n",
        "    count = 0\r\n",
        "    character = ''\r\n",
        "    previous_char = message[0]\r\n",
        "    result = ''\r\n",
        "    length = len(message) \r\n",
        "    \r\n",
        "    i = 0\r\n",
        "    while (i != length ):\r\n",
        "        character = message[i]\r\n",
        "        \r\n",
        "        if previous_char == character :\r\n",
        "            count = count + 1\r\n",
        "        else :\r\n",
        "            result = result + str(count) + previous_char\r\n",
        "            count = 1\r\n",
        "        #print(str(i) + str(character) + str(previous_char) + \"          \" + str(result))\r\n",
        "        previous_char = character\r\n",
        "        i = i + 1\r\n",
        "        \r\n",
        "    return result + str(count) + str(previous_char)"
      ],
      "execution_count": null,
      "outputs": []
    },
    {
      "cell_type": "code",
      "metadata": {
        "colab": {
          "base_uri": "https://localhost:8080/"
        },
        "id": "gn0lPnxsoIdA",
        "outputId": "8726c9d7-1850-43a1-a2c0-6a8fb02c3912"
      },
      "source": [
        "encoded_message=encode(\"ABBBBCCCCCCCCAB\")\r\n",
        "print(encoded_message)"
      ],
      "execution_count": null,
      "outputs": [
        {
          "output_type": "stream",
          "text": [
            "1A4B8C1A1B\n"
          ],
          "name": "stdout"
        }
      ]
    },
    {
      "cell_type": "code",
      "metadata": {
        "id": "aC7ah7zdoNjF"
      },
      "source": [
        ""
      ],
      "execution_count": null,
      "outputs": []
    }
  ]
}