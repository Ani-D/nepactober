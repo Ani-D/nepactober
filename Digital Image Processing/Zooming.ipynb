{
  "nbformat": 4,
  "nbformat_minor": 0,
  "metadata": {
    "colab": {
      "name": "Zooming.ipynb",
      "provenance": []
    },
    "kernelspec": {
      "name": "python3",
      "display_name": "Python 3"
    }
  },
  "cells": [
    {
      "cell_type": "code",
      "metadata": {
        "id": "KMisKpPGh4ci"
      },
      "source": [
        "import matplotlib.image as img\r\n",
        "import matplotlib.pyplot as plt\r\n",
        "import numpy as np"
      ],
      "execution_count": null,
      "outputs": []
    },
    {
      "cell_type": "code",
      "metadata": {
        "colab": {
          "base_uri": "https://localhost:8080/",
          "height": 321
        },
        "id": "USgEkycUiNTT",
        "outputId": "cd8f859f-181f-435b-d3a7-b68cfbf0683e"
      },
      "source": [
        "img=[1,7,1,7,3,3,5,6,7,1,1,2,3,3,7]\r\n",
        "i=np.reshape(img,(3,5))\r\n",
        "print(i)\r\n",
        "plt.imshow(i)"
      ],
      "execution_count": null,
      "outputs": [
        {
          "output_type": "stream",
          "text": [
            "[[1 7 1 7 3]\n",
            " [3 5 6 7 1]\n",
            " [1 2 3 3 7]]\n"
          ],
          "name": "stdout"
        },
        {
          "output_type": "execute_result",
          "data": {
            "text/plain": [
              "<matplotlib.image.AxesImage at 0x7f5f3125a320>"
            ]
          },
          "metadata": {
            "tags": []
          },
          "execution_count": 5
        },
        {
          "output_type": "display_data",
          "data": {
            "image/png": "[encoded data removed]",
            "text/plain": [
              "<Figure size 432x288 with 1 Axes>"
            ]
          },
          "metadata": {
            "tags": [],
            "needs_background": "light"
          }
        }
      ]
    },
    {
      "cell_type": "code",
      "metadata": {
        "id": "jRVRopoLiZH4",
        "colab": {
          "base_uri": "https://localhost:8080/",
          "height": 216
        },
        "outputId": "cdb15712-135b-4c07-d0f7-9e171e18176b"
      },
      "source": [
        "\r\n",
        "newcol=[]\r\n",
        "for row in range(0, i.shape[0]):\r\n",
        "    for col in range(0,i.shape[1]):\r\n",
        "        newcol.append(i[row,col])\r\n",
        "        newcol.append(0)\r\n",
        "\r\n",
        "newcol=(np.reshape(newcol,(3,10)))\r\n",
        "print(newcol)\r\n",
        "plt.imshow(newcol)"
      ],
      "execution_count": null,
      "outputs": [
        {
          "output_type": "stream",
          "text": [
            "[[1 0 7 0 1 0 7 0 3 0]\n",
            " [3 0 5 0 6 0 7 0 1 0]\n",
            " [1 0 2 0 3 0 3 0 7 0]]\n"
          ],
          "name": "stdout"
        },
        {
          "output_type": "execute_result",
          "data": {
            "text/plain": [
              "<matplotlib.image.AxesImage at 0x7f5f28f258d0>"
            ]
          },
          "metadata": {
            "tags": []
          },
          "execution_count": 7
        },
        {
          "output_type": "display_data",
          "data": {
            "image/png": "[encoded data removed]",
            "text/plain": [
              "<Figure size 432x288 with 1 Axes>"
            ]
          },
          "metadata": {
            "tags": [],
            "needs_background": "light"
          }
        }
      ]
    },
    {
      "cell_type": "code",
      "metadata": {
        "colab": {
          "base_uri": "https://localhost:8080/",
          "height": 368
        },
        "id": "jX50ah0KkH93",
        "outputId": "ab2d9ac3-53bf-481f-8405-27afceef5eee"
      },
      "source": [
        "newrow=[]\r\n",
        "for row in range(0,newcol.shape[0]):\r\n",
        "  for col in range(0,newcol.shape[1]):\r\n",
        "    newrow.append(newcol[row,col])\r\n",
        "  for l in range(0,newcol.shape[1]):\r\n",
        "    newrow.append(0)\r\n",
        "zi=np.reshape(newrow,(6,10))\r\n",
        "print(zi)\r\n",
        "plt.imshow(zi)"
      ],
      "execution_count": null,
      "outputs": [
        {
          "output_type": "stream",
          "text": [
            "[[1 0 7 0 1 0 7 0 3 0]\n",
            " [0 0 0 0 0 0 0 0 0 0]\n",
            " [3 0 5 0 6 0 7 0 1 0]\n",
            " [0 0 0 0 0 0 0 0 0 0]\n",
            " [1 0 2 0 3 0 3 0 7 0]\n",
            " [0 0 0 0 0 0 0 0 0 0]]\n"
          ],
          "name": "stdout"
        },
        {
          "output_type": "execute_result",
          "data": {
            "text/plain": [
              "<matplotlib.image.AxesImage at 0x7f5f28f4df98>"
            ]
          },
          "metadata": {
            "tags": []
          },
          "execution_count": 10
        },
        {
          "output_type": "display_data",
          "data": {
            "image/png": "[encoded data removed]",
            "text/plain": [
              "<Figure size 432x288 with 1 Axes>"
            ]
          },
          "metadata": {
            "tags": [],
            "needs_background": "light"
          }
        }
      ]
    },
    {
      "cell_type": "code",
      "metadata": {
        "colab": {
          "base_uri": "https://localhost:8080/",
          "height": 368
        },
        "id": "yQCaCCcylh6u",
        "outputId": "fdacb729-a538-4bc1-f42f-5223d65f42ce"
      },
      "source": [
        "ni_col=[]\r\n",
        "for row in range(0,zi.shape[0]):\r\n",
        "    for col in range(0,zi.shape[1]):\r\n",
        "        if(col%2==1 and col<zi.shape[1]-2):\r\n",
        "            ni_col.append((zi[row,col-1]+zi[row,col+1])/2)\r\n",
        "        elif(col%2==1 and col==zi.shape[1]-1):\r\n",
        "            ni_col.append(zi[row,col-1]/2)\r\n",
        "        else:\r\n",
        "            ni_col.append(zi[row,col])\r\n",
        "ni_col=(np.reshape(ni_col,(6,10)))\r\n",
        "print(ni_col)\r\n",
        "plt.imshow(ni_col)"
      ],
      "execution_count": null,
      "outputs": [
        {
          "output_type": "stream",
          "text": [
            "[[1.  4.  7.  4.  1.  4.  7.  5.  3.  1.5]\n",
            " [0.  0.  0.  0.  0.  0.  0.  0.  0.  0. ]\n",
            " [3.  4.  5.  5.5 6.  6.5 7.  4.  1.  0.5]\n",
            " [0.  0.  0.  0.  0.  0.  0.  0.  0.  0. ]\n",
            " [1.  1.5 2.  2.5 3.  3.  3.  5.  7.  3.5]\n",
            " [0.  0.  0.  0.  0.  0.  0.  0.  0.  0. ]]\n"
          ],
          "name": "stdout"
        },
        {
          "output_type": "execute_result",
          "data": {
            "text/plain": [
              "<matplotlib.image.AxesImage at 0x7f5f28e1cba8>"
            ]
          },
          "metadata": {
            "tags": []
          },
          "execution_count": 11
        },
        {
          "output_type": "display_data",
          "data": {
            "image/png": "[encoded data removed]",
            "text/plain": [
              "<Figure size 432x288 with 1 Axes>"
            ]
          },
          "metadata": {
            "tags": [],
            "needs_background": "light"
          }
        }
      ]
    },
    {
      "cell_type": "code",
      "metadata": {
        "colab": {
          "base_uri": "https://localhost:8080/",
          "height": 368
        },
        "id": "rf7apribl7nB",
        "outputId": "450555ea-e5db-410a-aa0a-bb91fd424ab4"
      },
      "source": [
        "ni_row=[]\r\n",
        "for row in range(0,ni_col.shape[0]):\r\n",
        "    for col in range(0,ni_col.shape[1]):\r\n",
        "        if(row%2==1 and row<ni_col.shape[0]-2):\r\n",
        "            ni_row.append((ni_col[row-1,col]+ni_col[row+1,col])/2)\r\n",
        "        elif(row%2==1 and row==ni_col.shape[0]-1):\r\n",
        "            ni_row.append(ni_col[row-1,col]/2)\r\n",
        "        else:\r\n",
        "            ni_row.append(ni_col[row,col])\r\n",
        "ni_row=(np.reshape(ni_row,(6,10)))\r\n",
        "print(ni_row)\r\n",
        "plt.imshow(ni_row)"
      ],
      "execution_count": null,
      "outputs": [
        {
          "output_type": "stream",
          "text": [
            "[[1.   4.   7.   4.   1.   4.   7.   5.   3.   1.5 ]\n",
            " [2.   4.   6.   4.75 3.5  5.25 7.   4.5  2.   1.  ]\n",
            " [3.   4.   5.   5.5  6.   6.5  7.   4.   1.   0.5 ]\n",
            " [2.   2.75 3.5  4.   4.5  4.75 5.   4.5  4.   2.  ]\n",
            " [1.   1.5  2.   2.5  3.   3.   3.   5.   7.   3.5 ]\n",
            " [0.5  0.75 1.   1.25 1.5  1.5  1.5  2.5  3.5  1.75]]\n"
          ],
          "name": "stdout"
        },
        {
          "output_type": "execute_result",
          "data": {
            "text/plain": [
              "<matplotlib.image.AxesImage at 0x7f5f28e01470>"
            ]
          },
          "metadata": {
            "tags": []
          },
          "execution_count": 12
        },
        {
          "output_type": "display_data",
          "data": {
            "image/png": "[encoded data removed]",
            "text/plain": [
              "<Figure size 432x288 with 1 Axes>"
            ]
          },
          "metadata": {
            "tags": [],
            "needs_background": "light"
          }
        }
      ]
    },
    {
      "cell_type": "code",
      "metadata": {
        "colab": {
          "base_uri": "https://localhost:8080/",
          "height": 159
        },
        "id": "IUexoaeKl-9I",
        "outputId": "53fb1a64-0a46-4ce6-ef19-9241148b620b"
      },
      "source": [
        "plt.subplot(241),plt.imshow(i),plt.title(\"original\")\r\n",
        "plt.subplot(242),plt.imshow(ni_row),plt.title(\"zoom\")"
      ],
      "execution_count": null,
      "outputs": [
        {
          "output_type": "execute_result",
          "data": {
            "text/plain": [
              "(<matplotlib.axes._subplots.AxesSubplot at 0x7f5f28da8a58>,\n",
              " <matplotlib.image.AxesImage at 0x7f5f28d3afd0>,\n",
              " Text(0.5, 1.0, 'zoom'))"
            ]
          },
          "metadata": {
            "tags": []
          },
          "execution_count": 13
        },
        {
          "output_type": "display_data",
          "data": {
            "image/png": "[encoded data removed]",
            "text/plain": [
              "<Figure size 432x288 with 2 Axes>"
            ]
          },
          "metadata": {
            "tags": [],
            "needs_background": "light"
          }
        }
      ]
    },
    {
      "cell_type": "code",
      "metadata": {
        "id": "2vwhMISImCTQ"
      },
      "source": [
        ""
      ],
      "execution_count": null,
      "outputs": []
    }
  ]
}